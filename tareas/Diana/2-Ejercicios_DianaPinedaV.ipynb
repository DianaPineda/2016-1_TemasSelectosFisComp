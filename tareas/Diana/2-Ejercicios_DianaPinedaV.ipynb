{
 "cells": [
  {
   "cell_type": "markdown",
   "metadata": {},
   "source": [
    "### Ejercicio 1: El fractal de Newton\n",
    "\n",
    "(Ejercicio tomado de un curso de David P. Sanders)\n",
    "\n",
    "Este ejercicio tiene dos objetivos. Que implementen el método de Newton para una variable (real o compleja) para buscar ceros de una función $f(x)$ dando *también* su derivada, y que construyan un fractal usándolo.\n",
    "\n",
    "Recordemos primero qué es el método de Newton (o Newton-Raphson) en una variable, para encontrar las raíces (ceros) de una función no lineal $f(x)$. El método de Newton es un método iterativo definido por:\n",
    "\n",
    "$$\n",
    "x_{n+1}=x_n−\\frac{f(x_n)}{f′(x_n)},\n",
    "$$\n",
    "\n",
    "a partir de una *condición inicial* $x_0$ dada. (Cualquier libro de cálculo 1 es buena referencia para la construcción.) Lo importante es que $x_{n+1}$, se construye a partir del anterior, usando la función $f(x)$ (cuyas raíces queremos encontrar) y *también* su derivada $f'(x)$. \n",
    "\n",
    "El *teorema* dice que si $x_0$ está suficientemente cerca de $x^*$, donde $f(x^*)=0$, entonces $x_n \\to x^*$ cuando $n\\to\\infty$.\n",
    "\n",
    "1. Implementen una función para encontrar las raíces de una función arbitraria $f(x)$. En particular, consideren $f(x) = x^2 - 2$. (Para escribir $f'(x)$ con caracteres Unicode, simplemente escriba `f\\prime<TAB>`.) *HINT:* Como a priori no sabemos si la condición inicial conviene o no, vale la pena poner un tope superior al número de iteraciones del método de Newton.\n",
    "\n",
    "2. Usa el método de Newton para encontrar las raíces cúbicas de 1, o sea, $g(z) = z^3-1$. Empezando con una malla de condiciones iniciales $z_0$ (en el plano complejo), determina a donde converge cada condición inicial. Guarden los resultados en una matriz: $N_{i,j} = z_{end}(z_0)$, donde $(i,j)$ identifican el punto en la malla. (Algo importante es que en Julia las matrices se almacenan corriendo sobre los renglones, es decir, primero se almacena la primer columna, luego la segunda, etc. Saber esto puede hacer que logren hacer correr las cosas de manera *eficiente*.)\n",
    "\n",
    "3. Grafiquen los resultados usando `imshow`, `pcolor` y/o `pcolormesh` definidos en `PyPlot`; lean la documentación para ver cómo usar la instrucción que ustedes elijan.\n",
    "\n",
    "4. ¿Qué modificaciones puedes hacer para hacer ampliaciones? Haz un par de ejemplos. ¿Tiene sentido el uso de la palbra \"fractal\"?\n",
    "\n",
    "(Pueden experimentar también con otras funciones complejas, otros polinomios, o `sin`.)\n",
    "\n",
    "---"
   ]
  },
  {
   "cell_type": "code",
   "execution_count": 2,
   "metadata": {
    "collapsed": false
   },
   "outputs": [
    {
     "data": {
      "text/plain": [
       "Newton (generic function with 1 method)"
      ]
     },
     "execution_count": 2,
     "metadata": {},
     "output_type": "execute_result"
    }
   ],
   "source": [
    "#1. f(x) = x² - 2\n",
    "\n",
    "#Definimos la función y su derivada\n",
    "f(x) = x^2 - 2\n",
    "f′(x) = 2*x\n",
    "\n",
    "#Creamos una función que calcule la raiz con el método de Newton\n",
    "function Newton(x0, n_max)\n",
    "    x_siguiente = x0 - f(x0)/f′(x0)\n",
    "    \n",
    "    #Incia el ciclo\n",
    "    iteraciones = [1:n_max]\n",
    "    for i in iteraciones\n",
    "        x_siguiente = x_siguiente - f(x_siguiente)/f′(x_siguiente)\n",
    "        \n",
    "        if f(x_siguiente) < 1e-6\n",
    "            break\n",
    "        end\n",
    "    end\n",
    "        \n",
    "    return x_siguiente, f(x_siguiente)\n",
    "end"
   ]
  },
  {
   "cell_type": "code",
   "execution_count": 3,
   "metadata": {
    "collapsed": false
   },
   "outputs": [
    {
     "data": {
      "text/plain": [
       "(1.4142135623746899,4.510614104447086e-12)"
      ]
     },
     "execution_count": 3,
     "metadata": {},
     "output_type": "execute_result"
    }
   ],
   "source": [
    "Newton(2.0, 10)"
   ]
  },
  {
   "cell_type": "code",
   "execution_count": 5,
   "metadata": {
    "collapsed": false
   },
   "outputs": [
    {
     "data": {
      "text/plain": [
       "GenMalla (generic function with 1 method)"
      ]
     },
     "execution_count": 5,
     "metadata": {},
     "output_type": "execute_result"
    }
   ],
   "source": [
    "#2. Hacer una malla cuadrada, igualmente espaciada, no centrada\n",
    "\n",
    "#Solcita: posición inicial (a +ib), c: amplitud de la malla, p: numero de particiones\n",
    "function GenMalla(a, b, c, p) \n",
    "    xj = [a : (c-a)/p : a+c] #genera particiones a lo largo del eje X\n",
    "    yi = [b : (c-b)/p : b+c] #genera particiones a lo largo del eje Y\n",
    "\n",
    "    malla = Array(Complex128,(length(yi),length(xj))) #Especifica características de la malla\n",
    "    for j in 1:length(xj) \n",
    "        for i in 1:length(yi)\n",
    "            malla[i,j] = complex(xj[j], yi[i]) #asigna elementos a cada entrada de lamalla\n",
    "        end\n",
    "    end\n",
    "    malla\n",
    "end"
   ]
  },
  {
   "cell_type": "code",
   "execution_count": 6,
   "metadata": {
    "collapsed": false
   },
   "outputs": [
    {
     "ename": "LoadError",
     "evalue": "a not defined\nwhile loading In[6], in expression starting on line 2",
     "output_type": "error",
     "traceback": [
      "a not defined\nwhile loading In[6], in expression starting on line 2",
      ""
     ]
    }
   ],
   "source": [
    "#Definir función\n",
    "z = complex(a, b)\n",
    "g(z) = z^3 -1"
   ]
  },
  {
   "cell_type": "code",
   "execution_count": 44,
   "metadata": {
    "collapsed": false
   },
   "outputs": [
    {
     "data": {
      "text/plain": [
       "-118 + 44im"
      ]
     },
     "execution_count": 44,
     "metadata": {},
     "output_type": "execute_result"
    }
   ],
   "source": [
    "g(complex(3, 4))"
   ]
  },
  {
   "cell_type": "code",
   "execution_count": 24,
   "metadata": {
    "collapsed": false
   },
   "outputs": [
    {
     "data": {
      "text/plain": [
       "NewtonZ (generic function with 1 method)"
      ]
     },
     "execution_count": 24,
     "metadata": {},
     "output_type": "execute_result"
    }
   ],
   "source": [
    "#2. g(z) = z³ - 1\n",
    "\n",
    "#Definir función\n",
    "g(z) = z^3 -1\n",
    "g′(z) = 3*z^2\n",
    "\n",
    "function NewtonZ(malla, n_max)\n",
    "    \n",
    "    iteraciones = [1, n_max] #Número de iteraciones\n",
    "    malla_salida = malla #malla final, inicialmente es igual a la primera, y sobre ella se trabaja\n",
    "    \n",
    "    t = 1\n",
    "    for z in malla #para cada entrada de la malla\n",
    "        malla_salida[t] = z - g(z)/g′(z)   #definición del método de Newton\n",
    "        \n",
    "        for n in iteraciones #Ciclo de iteraciones para obtener la raiz de cada entrada\n",
    "            malla_salida[t] = malla_salida[t] - g(malla_salida[t])/g′(malla_salida[t]) #Def de Newton\n",
    "        end \n",
    "        \n",
    "        t = t+1 #Contador para avanzar de elemento\n",
    "    end  \n",
    "    return malla_salida \n",
    "    \n",
    "    #color al mapa\n",
    "    epsilon = 10^(-4) #error\n",
    "    \n",
    "  \n",
    "    color = Array(Real128,length(malla_salida))\n",
    "    for j = 1:3   #Para cada raiz\n",
    "        raiz = (-1)*exp(2*Pi*im/d)^j    #Raices de z^3 - 1 \n",
    "        \n",
    "        for elemento in color  \n",
    "            if abs(elemento - raiz) < epsilon\n",
    "                color[r] = r*0.2\n",
    "            end\n",
    "        end\n",
    "    end\n",
    "    \n",
    "    M = malla_salida\n",
    "    X = real(M)\n",
    "    Y = imag(M)\n",
    "    Z = color\n",
    "    \n",
    "    return pcolor(X,Y,Z)\n",
    "    \n",
    "end"
   ]
  },
  {
   "cell_type": "code",
   "execution_count": 23,
   "metadata": {
    "collapsed": false
   },
   "outputs": [
    {
     "data": {
      "text/plain": [
       "101x101 Array{Complex{Float64},2}:\n",
       "        NaN+NaN*im          59.2741+0.0im        …  1.57246+0.0im      \n",
       "   -59.2592+0.0148148im   0.0145958-29.6148im       1.57244+0.0130668im\n",
       "   -14.8139+0.0296331im    -7.09668-9.45317im       1.57236+0.0261353im\n",
       "   -6.57993+0.0445043im    -4.72433-3.51642im       1.57224+0.0392073im\n",
       "    -3.6897+0.0597085im    -3.05158-1.59435im       1.57207+0.0522846im\n",
       "   -2.33612+0.0762333im    -2.06064-0.828439im   …  1.57185+0.065369im \n",
       "   -1.57479+0.0967903im    -1.43315-0.473759im      1.57158+0.0784621im\n",
       "   -1.07629+0.128062im    -0.984777-0.291064im      1.57127+0.0915656im\n",
       "  -0.697091+0.186313im    -0.603201-0.182826im       1.5709+0.104681im \n",
       "  -0.370679+0.311066im    -0.188373-0.0760748im      1.5705+0.117811im \n",
       "  -0.116466+0.578569im     0.379358+0.231817im   …  1.57004+0.130956im \n",
       "  -0.129349+0.980088im     0.657089+1.40715im       1.56954+0.144118im \n",
       "    -0.4627+1.1257im      -0.878515+1.76163im         1.569+0.157298im \n",
       "           ⋮                                     ⋱         ⋮           \n",
       "   -0.11775+1.32303im     -0.103144+1.32039im       1.48805+1.26646im  \n",
       "  -0.115161+1.3376im       -0.10054+1.33504im    …   1.4874+1.28172im  \n",
       "  -0.112655+1.35218im    -0.0980211+1.34971im       1.48677+1.29698im  \n",
       "  -0.110229+1.36678im    -0.0955833+1.36439im       1.48615+1.31224im  \n",
       "  -0.107881+1.3814im     -0.0932234+1.37908im       1.48555+1.32751im  \n",
       "  -0.105606+1.39603im    -0.0909382+1.39378im       1.48497+1.34278im  \n",
       "  -0.103402+1.41066im    -0.0887245+1.40849im    …   1.4844+1.35806im  \n",
       "  -0.101266+1.42531im    -0.0865794+1.4232im        1.48385+1.37333im  \n",
       " -0.0991954+1.43997im    -0.0845002+1.43793im       1.48332+1.38861im  \n",
       " -0.0971871+1.45464im    -0.0824842+1.45266im        1.4828+1.40389im  \n",
       " -0.0952389+1.46932im    -0.0805288+1.46739im       1.48229+1.41917im  \n",
       " -0.0933484+1.484im      -0.0786317+1.48214im    …   1.4818+1.43445im  "
      ]
     },
     "execution_count": 23,
     "metadata": {},
     "output_type": "execute_result"
    }
   ],
   "source": [
    "NewtonZ(GenMalla(0,0,5,100), 15)"
   ]
  },
  {
   "cell_type": "code",
   "execution_count": 26,
   "metadata": {
    "collapsed": false
   },
   "outputs": [
    {
     "data": {
      "text/plain": [
       "101x101 Array{Complex{Float64},2}:\n",
       "        NaN+NaN*im          59.2741+0.0im        …  1.57246+0.0im      \n",
       "   -59.2592+0.0148148im   0.0145958-29.6148im       1.57244+0.0130668im\n",
       "   -14.8139+0.0296331im    -7.09668-9.45317im       1.57236+0.0261353im\n",
       "   -6.57993+0.0445043im    -4.72433-3.51642im       1.57224+0.0392073im\n",
       "    -3.6897+0.0597085im    -3.05158-1.59435im       1.57207+0.0522846im\n",
       "   -2.33612+0.0762333im    -2.06064-0.828439im   …  1.57185+0.065369im \n",
       "   -1.57479+0.0967903im    -1.43315-0.473759im      1.57158+0.0784621im\n",
       "   -1.07629+0.128062im    -0.984777-0.291064im      1.57127+0.0915656im\n",
       "  -0.697091+0.186313im    -0.603201-0.182826im       1.5709+0.104681im \n",
       "  -0.370679+0.311066im    -0.188373-0.0760748im      1.5705+0.117811im \n",
       "  -0.116466+0.578569im     0.379358+0.231817im   …  1.57004+0.130956im \n",
       "  -0.129349+0.980088im     0.657089+1.40715im       1.56954+0.144118im \n",
       "    -0.4627+1.1257im      -0.878515+1.76163im         1.569+0.157298im \n",
       "           ⋮                                     ⋱         ⋮           \n",
       "   -0.11775+1.32303im     -0.103144+1.32039im       1.48805+1.26646im  \n",
       "  -0.115161+1.3376im       -0.10054+1.33504im    …   1.4874+1.28172im  \n",
       "  -0.112655+1.35218im    -0.0980211+1.34971im       1.48677+1.29698im  \n",
       "  -0.110229+1.36678im    -0.0955833+1.36439im       1.48615+1.31224im  \n",
       "  -0.107881+1.3814im     -0.0932234+1.37908im       1.48555+1.32751im  \n",
       "  -0.105606+1.39603im    -0.0909382+1.39378im       1.48497+1.34278im  \n",
       "  -0.103402+1.41066im    -0.0887245+1.40849im    …   1.4844+1.35806im  \n",
       "  -0.101266+1.42531im    -0.0865794+1.4232im        1.48385+1.37333im  \n",
       " -0.0991954+1.43997im    -0.0845002+1.43793im       1.48332+1.38861im  \n",
       " -0.0971871+1.45464im    -0.0824842+1.45266im        1.4828+1.40389im  \n",
       " -0.0952389+1.46932im    -0.0805288+1.46739im       1.48229+1.41917im  \n",
       " -0.0933484+1.484im      -0.0786317+1.48214im    …   1.4818+1.43445im  "
      ]
     },
     "execution_count": 26,
     "metadata": {},
     "output_type": "execute_result"
    }
   ],
   "source": [
    "M = GenMalla(0,0,5,100)\n",
    "X = real(M)\n",
    "Y = imag(M)\n",
    "Z = MallaFuncionZ = NewtonZ(M, 100)"
   ]
  },
  {
   "cell_type": "code",
   "execution_count": null,
   "metadata": {
    "collapsed": true
   },
   "outputs": [],
   "source": [
    "function NewtonZ(malla, n_max)\n",
    "    \n",
    "    iteraciones = [1, n_max]\n",
    "    \n",
    "    for j in [1:p+1]\n",
    "        for i in [1:p+1]\n",
    "            malla[i,j] = malla[1,1] + g(malla[1,1])/g′(malla[1,1])\n",
    "            \n",
    "            for n in iteraciones\n",
    "                malla[i,j] = malla[i,j] + g(malla[i,j])/g′(malla[i,j])\n",
    "               \n",
    "                if g(malla[i,j]) < 1e-6\n",
    "                    break\n",
    "                end\n",
    "            end\n",
    "           \n",
    "            return malla[i,j]\n",
    "           \n",
    "        end \n",
    "    end\n",
    "end"
   ]
  },
  {
   "cell_type": "code",
   "execution_count": null,
   "metadata": {
    "collapsed": true
   },
   "outputs": [],
   "source": []
  },
  {
   "cell_type": "markdown",
   "metadata": {},
   "source": [
    "### Ejercicio 2: Operadores como funciones\n",
    "\n",
    "- ¿Qué pasa si sumas dos cadenas (*strings*)?\n",
    "\n",
    "- ¿Qué pasa si multiplicas dos cadenas (*strings*)?\n",
    "\n",
    "- Contruye una función *específica* que sume dos cadenas\n",
    "\n",
    "---"
   ]
  },
  {
   "cell_type": "markdown",
   "metadata": {
    "collapsed": true
   },
   "source": [
    "### Ejercicio 3: Diferenciación automática\n",
    "\n",
    "En clase vimos cómo definir estructuras \"tipo\" (*types*), y los conceptos básicos atrás de los `Duales` que sirven para implementar la diferenciación automática. \n",
    "\n",
    "El objetido de este ejercicio es que construyan un *módulo* (*llamado AutDiff en un archivo llamado AutDiff.jl*) que permita calcular primeras derivadas de manera más exacta que permita la computadora, o sea, que el error sea del orden del *epsilon* local de la máquina.\n",
    "\n",
    "1. Define el tipo (estructura) `Dual` (**con exactamente ese nombre**) que contenga dos campos, el valor de la función y el valor de su derivada. Haz que *ambos* campos tengan el mismo tipo de valor, y que ambos *tengan* que ser un subtipo de `Real`.\n",
    "\n",
    "- Define métodos para que el dual de un número (sólo *un* número) sea lo que uno espera, y una función `dual_var(x0)` que retorne un dual que represente a la variable *independiente* en `x0`.\n",
    "\n",
    "- Define métodos que sumen, resten, multipliquen y dividan duales, y números con duales. Incluye los casos (para duales) en que los operadores `+` y `-` actúan sólo sobre un `Dual`.\n",
    "\n",
    "- Incluye extensiones de las funciones elementales más usuales (`^`, `exp`, `log`, `sin`, `cos`, `sqrt`, etc).\n",
    "\n",
    "- Muestra que el error numérico de lo que has hecho es esencialmente el epsilon de la máquina. Para esto define alguna función $f(x)$ y aplícala sobre `x = dual_var(x0)`, y muestra que el error es del orden del epsilon de la máquina al rededor del valor verdadero de la derivada.\n",
    "\n",
    "- Extiende la función para el método de Newton para que funcione sólo dando la función, y que la derivada la obtenga usando las herramientas del módulo.\n",
    "\n",
    "\n",
    "---"
   ]
  },
  {
   "cell_type": "markdown",
   "metadata": {},
   "source": [
    "### Materiales de ayuda\n",
    "\n",
    "[Módulos en Julia](http://julia.readthedocs.org/en/latest/manual/modules/)"
   ]
  }
 ],
 "metadata": {
  "kernelspec": {
   "display_name": "Julia 0.3.11",
   "language": "julia",
   "name": "julia-0.3"
  },
  "language_info": {
   "name": "julia",
   "version": "0.3.11"
  }
 },
 "nbformat": 4,
 "nbformat_minor": 0
}
